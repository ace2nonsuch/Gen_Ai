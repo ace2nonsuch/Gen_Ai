{
 "cells": [
  {
   "cell_type": "markdown",
   "id": "742f966b",
   "metadata": {},
   "source": [
    "## Loading from Google Drive"
   ]
  }
 ],
 "metadata": {
  "language_info": {
   "name": "python"
  }
 },
 "nbformat": 4,
 "nbformat_minor": 5
}
