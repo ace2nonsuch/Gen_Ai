{
 "cells": [
  {
   "cell_type": "markdown",
   "id": "742f966b",
   "metadata": {},
   "source": [
    "## Loading from Google Drive"
   ]
  },
  {
   "cell_type": "code",
   "execution_count": 4,
   "id": "21948ade",
   "metadata": {},
   "outputs": [],
   "source": [
    "# Import the necessary libraries\n",
    "\n",
    "#libraries for data wrangling\n",
    "import pandas as pd\n",
    "import numpy as np\n",
    "\n",
    "#libraries for visualization\n",
    "import matplotlib.pyplot as plt\n",
    "import seaborn as sns\n",
    "\n",
    "#libraries for time\n",
    "from datetime import datetime, timedelta\n",
    "\n",
    "#ignore warnings\n",
    "import warnings\n",
    "warnings.filterwarnings('ignore')\n",
    "\n",
    "#set up views\n",
    "pd.set_option('display.max_columns', None)\n",
    "pd.set_option('display.width', 1000)"
   ]
  },
  {
   "cell_type": "code",
   "execution_count": 7,
   "id": "19313e10",
   "metadata": {},
   "outputs": [
    {
     "data": {
      "text/html": [
       "<div>\n",
       "<style scoped>\n",
       "    .dataframe tbody tr th:only-of-type {\n",
       "        vertical-align: middle;\n",
       "    }\n",
       "\n",
       "    .dataframe tbody tr th {\n",
       "        vertical-align: top;\n",
       "    }\n",
       "\n",
       "    .dataframe thead th {\n",
       "        text-align: right;\n",
       "    }\n",
       "</style>\n",
       "<table border=\"1\" class=\"dataframe\">\n",
       "  <thead>\n",
       "    <tr style=\"text-align: right;\">\n",
       "      <th></th>\n",
       "      <th>ID</th>\n",
       "      <th>Case Number</th>\n",
       "      <th>Date</th>\n",
       "      <th>Block</th>\n",
       "      <th>IUCR</th>\n",
       "      <th>Primary Type</th>\n",
       "      <th>Description</th>\n",
       "      <th>Location Description</th>\n",
       "      <th>Arrest</th>\n",
       "      <th>Domestic</th>\n",
       "      <th>Beat</th>\n",
       "      <th>District</th>\n",
       "      <th>Ward</th>\n",
       "      <th>Community Area</th>\n",
       "      <th>FBI Code</th>\n",
       "      <th>X Coordinate</th>\n",
       "      <th>Y Coordinate</th>\n",
       "      <th>Year</th>\n",
       "      <th>Updated On</th>\n",
       "      <th>Latitude</th>\n",
       "      <th>Longitude</th>\n",
       "      <th>Location</th>\n",
       "    </tr>\n",
       "  </thead>\n",
       "  <tbody>\n",
       "    <tr>\n",
       "      <th>7784659</th>\n",
       "      <td>12847575</td>\n",
       "      <td>JF420478</td>\n",
       "      <td>09/01/2022 05:00:00 AM</td>\n",
       "      <td>005XX W SURF ST</td>\n",
       "      <td>2825</td>\n",
       "      <td>OTHER OFFENSE</td>\n",
       "      <td>HARASSMENT BY TELEPHONE</td>\n",
       "      <td>RESIDENCE</td>\n",
       "      <td>False</td>\n",
       "      <td>True</td>\n",
       "      <td>1934</td>\n",
       "      <td>19.0</td>\n",
       "      <td>44.0</td>\n",
       "      <td>6.0</td>\n",
       "      <td>26</td>\n",
       "      <td>1172497.0</td>\n",
       "      <td>1919410.0</td>\n",
       "      <td>2022</td>\n",
       "      <td>01/03/2023 03:46:28 PM</td>\n",
       "      <td>41.934305</td>\n",
       "      <td>-87.641485</td>\n",
       "      <td>(41.934304581, -87.641484982)</td>\n",
       "    </tr>\n",
       "    <tr>\n",
       "      <th>7784660</th>\n",
       "      <td>12847801</td>\n",
       "      <td>JF420319</td>\n",
       "      <td>07/08/2022 12:00:00 AM</td>\n",
       "      <td>114XX S PRAIRIE AVE</td>\n",
       "      <td>1130</td>\n",
       "      <td>DECEPTIVE PRACTICE</td>\n",
       "      <td>FRAUD OR CONFIDENCE GAME</td>\n",
       "      <td>STREET</td>\n",
       "      <td>False</td>\n",
       "      <td>False</td>\n",
       "      <td>531</td>\n",
       "      <td>5.0</td>\n",
       "      <td>9.0</td>\n",
       "      <td>49.0</td>\n",
       "      <td>11</td>\n",
       "      <td>1179966.0</td>\n",
       "      <td>1828818.0</td>\n",
       "      <td>2022</td>\n",
       "      <td>01/03/2023 03:46:28 PM</td>\n",
       "      <td>41.685544</td>\n",
       "      <td>-87.616813</td>\n",
       "      <td>(41.685543881, -87.616812541)</td>\n",
       "    </tr>\n",
       "    <tr>\n",
       "      <th>7784661</th>\n",
       "      <td>12847324</td>\n",
       "      <td>JF420102</td>\n",
       "      <td>09/27/2022 11:00:00 AM</td>\n",
       "      <td>023XX E 70TH ST</td>\n",
       "      <td>0810</td>\n",
       "      <td>THEFT</td>\n",
       "      <td>OVER $500</td>\n",
       "      <td>RESIDENCE</td>\n",
       "      <td>False</td>\n",
       "      <td>False</td>\n",
       "      <td>331</td>\n",
       "      <td>3.0</td>\n",
       "      <td>5.0</td>\n",
       "      <td>43.0</td>\n",
       "      <td>06</td>\n",
       "      <td>1193181.0</td>\n",
       "      <td>1859005.0</td>\n",
       "      <td>2022</td>\n",
       "      <td>01/03/2023 03:46:28 PM</td>\n",
       "      <td>41.768068</td>\n",
       "      <td>-87.567453</td>\n",
       "      <td>(41.768068052, -87.567452932)</td>\n",
       "    </tr>\n",
       "    <tr>\n",
       "      <th>7784662</th>\n",
       "      <td>12847570</td>\n",
       "      <td>JF420427</td>\n",
       "      <td>09/03/2022 10:25:00 AM</td>\n",
       "      <td>052XX W CARMEN AVE</td>\n",
       "      <td>2021</td>\n",
       "      <td>NARCOTICS</td>\n",
       "      <td>POSSESS - BARBITURATES</td>\n",
       "      <td>RESIDENCE - YARD (FRONT / BACK)</td>\n",
       "      <td>True</td>\n",
       "      <td>False</td>\n",
       "      <td>1623</td>\n",
       "      <td>16.0</td>\n",
       "      <td>45.0</td>\n",
       "      <td>11.0</td>\n",
       "      <td>18</td>\n",
       "      <td>1140553.0</td>\n",
       "      <td>1933418.0</td>\n",
       "      <td>2022</td>\n",
       "      <td>01/03/2023 03:46:28 PM</td>\n",
       "      <td>41.973391</td>\n",
       "      <td>-87.758535</td>\n",
       "      <td>(41.973391184, -87.758534512)</td>\n",
       "    </tr>\n",
       "    <tr>\n",
       "      <th>7784663</th>\n",
       "      <td>12840464</td>\n",
       "      <td>JF411839</td>\n",
       "      <td>09/26/2022 07:20:00 PM</td>\n",
       "      <td>0000X N MASON AVE</td>\n",
       "      <td>143A</td>\n",
       "      <td>WEAPONS VIOLATION</td>\n",
       "      <td>UNLAWFUL POSSESSION - HANDGUN</td>\n",
       "      <td>SIDEWALK</td>\n",
       "      <td>True</td>\n",
       "      <td>False</td>\n",
       "      <td>1513</td>\n",
       "      <td>15.0</td>\n",
       "      <td>29.0</td>\n",
       "      <td>25.0</td>\n",
       "      <td>15</td>\n",
       "      <td>1136773.0</td>\n",
       "      <td>1899652.0</td>\n",
       "      <td>2022</td>\n",
       "      <td>01/03/2023 03:46:28 PM</td>\n",
       "      <td>41.880802</td>\n",
       "      <td>-87.773246</td>\n",
       "      <td>(41.880802263, -87.773245737)</td>\n",
       "    </tr>\n",
       "  </tbody>\n",
       "</table>\n",
       "</div>"
      ],
      "text/plain": [
       "               ID Case Number                    Date                Block  IUCR        Primary Type                    Description             Location Description  Arrest  Domestic  Beat  District  Ward  Community Area FBI Code  X Coordinate  Y Coordinate  Year              Updated On   Latitude  Longitude                       Location\n",
       "7784659  12847575    JF420478  09/01/2022 05:00:00 AM      005XX W SURF ST  2825       OTHER OFFENSE        HARASSMENT BY TELEPHONE                        RESIDENCE   False      True  1934      19.0  44.0             6.0       26     1172497.0     1919410.0  2022  01/03/2023 03:46:28 PM  41.934305 -87.641485  (41.934304581, -87.641484982)\n",
       "7784660  12847801    JF420319  07/08/2022 12:00:00 AM  114XX S PRAIRIE AVE  1130  DECEPTIVE PRACTICE       FRAUD OR CONFIDENCE GAME                           STREET   False     False   531       5.0   9.0            49.0       11     1179966.0     1828818.0  2022  01/03/2023 03:46:28 PM  41.685544 -87.616813  (41.685543881, -87.616812541)\n",
       "7784661  12847324    JF420102  09/27/2022 11:00:00 AM      023XX E 70TH ST  0810               THEFT                      OVER $500                        RESIDENCE   False     False   331       3.0   5.0            43.0       06     1193181.0     1859005.0  2022  01/03/2023 03:46:28 PM  41.768068 -87.567453  (41.768068052, -87.567452932)\n",
       "7784662  12847570    JF420427  09/03/2022 10:25:00 AM   052XX W CARMEN AVE  2021           NARCOTICS         POSSESS - BARBITURATES  RESIDENCE - YARD (FRONT / BACK)    True     False  1623      16.0  45.0            11.0       18     1140553.0     1933418.0  2022  01/03/2023 03:46:28 PM  41.973391 -87.758535  (41.973391184, -87.758534512)\n",
       "7784663  12840464    JF411839  09/26/2022 07:20:00 PM    0000X N MASON AVE  143A   WEAPONS VIOLATION  UNLAWFUL POSSESSION - HANDGUN                         SIDEWALK    True     False  1513      15.0  29.0            25.0       15     1136773.0     1899652.0  2022  01/03/2023 03:46:28 PM  41.880802 -87.773246  (41.880802263, -87.773245737)"
      ]
     },
     "execution_count": 7,
     "metadata": {},
     "output_type": "execute_result"
    }
   ],
   "source": [
    "# Define the data path\n",
    "data_path = 'archive.zip'\n",
    "\n",
    "# Download the file from Google Drive if it does not exist\n",
    "import os\n",
    "\n",
    "if not os.path.exists(data_path): # Check if file already exists\n",
    "\t# Install gdown if not already installed\n",
    "\t%pip install gdown\n",
    "\timport gdown\n",
    "\traw_url = 'https://drive.google.com/file/d/1ib1PWK_3oaaSfThqfnfSoPZq7vA1g33X/view?usp=sharing'\n",
    "\tfile_id = '1ib1PWK_3oaaSfThqfnfSoPZq7vA1g33X'  # Make sure it's a string\n",
    "\t# Retry download up to 3 times if connection fails\n",
    "\tfor attempt in range(3):\n",
    "\t\ttry:\n",
    "\t\t\tgdown.download(f\"https://drive.google.com/uc?id={file_id}\", data_path, quiet=False) # Download the file\n",
    "\t\t\tbreak\n",
    "\t\texcept Exception as e: # Catch any exception\n",
    "\t\t\tprint(f\"Attempt {attempt+1} failed: {e}\")\t# Print the error message\n",
    "\t\t\tif attempt == 2:\n",
    "\t\t\t\traise\n",
    "\n",
    "# Load the data into a DataFrame\n",
    "df = pd.read_csv(data_path, low_memory=True, compression='zip')\n",
    "df.tail()"
   ]
  },
  {
   "cell_type": "code",
   "execution_count": 8,
   "id": "c1a28123",
   "metadata": {},
   "outputs": [],
   "source": [
    "# Lets write a function to load the full dataset (7M+ records) or just a specified samples.\n",
    "# The  idea behind this is just to reduce memory usage for the dataset to also load faster.\n",
    "# Take your time to understand the function, what I did and why I did so.\n",
    "\n",
    "def load_chicago_crime_data(data_path, sample_size=None):\n",
    "    \"\"\"\n",
    "    Optimized loading function for Chicago crime data\n",
    "    \"\"\"\n",
    "    # Define data types to reduce memory usage\n",
    "    dtype_dict = {\n",
    "        'ID': 'Int32',\n",
    "        'Case Number': 'string',\n",
    "        'IUCR': 'category',\n",
    "        'Primary Type': 'category',\n",
    "        'Description': 'category',\n",
    "        'Location Description': 'category',\n",
    "        'Arrest': 'bool',\n",
    "        'Domestic': 'bool',\n",
    "        'Beat': 'Int16',\n",
    "        'District': 'Int8',\n",
    "        'Ward': 'Int8',\n",
    "        'Community Area': 'Int8',\n",
    "        'FBI Code': 'category',\n",
    "        'X Coordinate': 'float32',\n",
    "        'Y Coordinate': 'float32',\n",
    "        'Latitude': 'float32',\n",
    "        'Longitude': 'float32'\n",
    "    }\n",
    "\n",
    "    # Parse dates during loading\n",
    "    date_cols = ['Date', 'Updated On']\n",
    "\n",
    "    if sample_size:\n",
    "        # Load random sample for faster analysis\n",
    "        df = pd.read_csv(data_path,\n",
    "                        dtype=dtype_dict,\n",
    "                        parse_dates=date_cols,\n",
    "                        low_memory=False, keep_default_na=True, nrows = sample_size) # you can use \".sample(n=sample_size)\" as well.\n",
    "    else:\n",
    "        df = pd.read_csv(data_path,\n",
    "                        dtype=dtype_dict,\n",
    "                        parse_dates=date_cols,\n",
    "                        low_memory=False, keep_default_na=True)\n",
    "\n",
    "    return df\n",
    "\n",
    "# I would load this and comment it out..."
   ]
  },
  {
   "cell_type": "code",
   "execution_count": null,
   "id": "77b47785",
   "metadata": {},
   "outputs": [
    {
     "data": {
      "text/html": [
       "<div>\n",
       "<style scoped>\n",
       "    .dataframe tbody tr th:only-of-type {\n",
       "        vertical-align: middle;\n",
       "    }\n",
       "\n",
       "    .dataframe tbody tr th {\n",
       "        vertical-align: top;\n",
       "    }\n",
       "\n",
       "    .dataframe thead th {\n",
       "        text-align: right;\n",
       "    }\n",
       "</style>\n",
       "<table border=\"1\" class=\"dataframe\">\n",
       "  <thead>\n",
       "    <tr style=\"text-align: right;\">\n",
       "      <th></th>\n",
       "      <th>ID</th>\n",
       "      <th>Case Number</th>\n",
       "      <th>Date</th>\n",
       "      <th>Block</th>\n",
       "      <th>IUCR</th>\n",
       "      <th>Primary Type</th>\n",
       "      <th>Description</th>\n",
       "      <th>Location Description</th>\n",
       "      <th>Arrest</th>\n",
       "      <th>Domestic</th>\n",
       "      <th>Beat</th>\n",
       "      <th>District</th>\n",
       "      <th>Ward</th>\n",
       "      <th>Community Area</th>\n",
       "      <th>FBI Code</th>\n",
       "      <th>X Coordinate</th>\n",
       "      <th>Y Coordinate</th>\n",
       "      <th>Year</th>\n",
       "      <th>Updated On</th>\n",
       "      <th>Latitude</th>\n",
       "      <th>Longitude</th>\n",
       "      <th>Location</th>\n",
       "    </tr>\n",
       "  </thead>\n",
       "  <tbody>\n",
       "    <tr>\n",
       "      <th>7784659</th>\n",
       "      <td>12847575</td>\n",
       "      <td>JF420478</td>\n",
       "      <td>09/01/2022 05:00:00 AM</td>\n",
       "      <td>005XX W SURF ST</td>\n",
       "      <td>2825</td>\n",
       "      <td>OTHER OFFENSE</td>\n",
       "      <td>HARASSMENT BY TELEPHONE</td>\n",
       "      <td>RESIDENCE</td>\n",
       "      <td>False</td>\n",
       "      <td>True</td>\n",
       "      <td>1934</td>\n",
       "      <td>19.0</td>\n",
       "      <td>44.0</td>\n",
       "      <td>6.0</td>\n",
       "      <td>26</td>\n",
       "      <td>1172497.0</td>\n",
       "      <td>1919410.0</td>\n",
       "      <td>2022</td>\n",
       "      <td>01/03/2023 03:46:28 PM</td>\n",
       "      <td>41.934305</td>\n",
       "      <td>-87.641485</td>\n",
       "      <td>(41.934304581, -87.641484982)</td>\n",
       "    </tr>\n",
       "    <tr>\n",
       "      <th>7784660</th>\n",
       "      <td>12847801</td>\n",
       "      <td>JF420319</td>\n",
       "      <td>07/08/2022 12:00:00 AM</td>\n",
       "      <td>114XX S PRAIRIE AVE</td>\n",
       "      <td>1130</td>\n",
       "      <td>DECEPTIVE PRACTICE</td>\n",
       "      <td>FRAUD OR CONFIDENCE GAME</td>\n",
       "      <td>STREET</td>\n",
       "      <td>False</td>\n",
       "      <td>False</td>\n",
       "      <td>531</td>\n",
       "      <td>5.0</td>\n",
       "      <td>9.0</td>\n",
       "      <td>49.0</td>\n",
       "      <td>11</td>\n",
       "      <td>1179966.0</td>\n",
       "      <td>1828818.0</td>\n",
       "      <td>2022</td>\n",
       "      <td>01/03/2023 03:46:28 PM</td>\n",
       "      <td>41.685544</td>\n",
       "      <td>-87.616813</td>\n",
       "      <td>(41.685543881, -87.616812541)</td>\n",
       "    </tr>\n",
       "    <tr>\n",
       "      <th>7784661</th>\n",
       "      <td>12847324</td>\n",
       "      <td>JF420102</td>\n",
       "      <td>09/27/2022 11:00:00 AM</td>\n",
       "      <td>023XX E 70TH ST</td>\n",
       "      <td>0810</td>\n",
       "      <td>THEFT</td>\n",
       "      <td>OVER $500</td>\n",
       "      <td>RESIDENCE</td>\n",
       "      <td>False</td>\n",
       "      <td>False</td>\n",
       "      <td>331</td>\n",
       "      <td>3.0</td>\n",
       "      <td>5.0</td>\n",
       "      <td>43.0</td>\n",
       "      <td>06</td>\n",
       "      <td>1193181.0</td>\n",
       "      <td>1859005.0</td>\n",
       "      <td>2022</td>\n",
       "      <td>01/03/2023 03:46:28 PM</td>\n",
       "      <td>41.768068</td>\n",
       "      <td>-87.567453</td>\n",
       "      <td>(41.768068052, -87.567452932)</td>\n",
       "    </tr>\n",
       "    <tr>\n",
       "      <th>7784662</th>\n",
       "      <td>12847570</td>\n",
       "      <td>JF420427</td>\n",
       "      <td>09/03/2022 10:25:00 AM</td>\n",
       "      <td>052XX W CARMEN AVE</td>\n",
       "      <td>2021</td>\n",
       "      <td>NARCOTICS</td>\n",
       "      <td>POSSESS - BARBITURATES</td>\n",
       "      <td>RESIDENCE - YARD (FRONT / BACK)</td>\n",
       "      <td>True</td>\n",
       "      <td>False</td>\n",
       "      <td>1623</td>\n",
       "      <td>16.0</td>\n",
       "      <td>45.0</td>\n",
       "      <td>11.0</td>\n",
       "      <td>18</td>\n",
       "      <td>1140553.0</td>\n",
       "      <td>1933418.0</td>\n",
       "      <td>2022</td>\n",
       "      <td>01/03/2023 03:46:28 PM</td>\n",
       "      <td>41.973391</td>\n",
       "      <td>-87.758535</td>\n",
       "      <td>(41.973391184, -87.758534512)</td>\n",
       "    </tr>\n",
       "    <tr>\n",
       "      <th>7784663</th>\n",
       "      <td>12840464</td>\n",
       "      <td>JF411839</td>\n",
       "      <td>09/26/2022 07:20:00 PM</td>\n",
       "      <td>0000X N MASON AVE</td>\n",
       "      <td>143A</td>\n",
       "      <td>WEAPONS VIOLATION</td>\n",
       "      <td>UNLAWFUL POSSESSION - HANDGUN</td>\n",
       "      <td>SIDEWALK</td>\n",
       "      <td>True</td>\n",
       "      <td>False</td>\n",
       "      <td>1513</td>\n",
       "      <td>15.0</td>\n",
       "      <td>29.0</td>\n",
       "      <td>25.0</td>\n",
       "      <td>15</td>\n",
       "      <td>1136773.0</td>\n",
       "      <td>1899652.0</td>\n",
       "      <td>2022</td>\n",
       "      <td>01/03/2023 03:46:28 PM</td>\n",
       "      <td>41.880802</td>\n",
       "      <td>-87.773246</td>\n",
       "      <td>(41.880802263, -87.773245737)</td>\n",
       "    </tr>\n",
       "  </tbody>\n",
       "</table>\n",
       "</div>"
      ],
      "text/plain": [
       "               ID Case Number                    Date                Block  IUCR        Primary Type                    Description             Location Description  Arrest  Domestic  Beat  District  Ward  Community Area FBI Code  X Coordinate  Y Coordinate  Year              Updated On   Latitude  Longitude                       Location\n",
       "7784659  12847575    JF420478  09/01/2022 05:00:00 AM      005XX W SURF ST  2825       OTHER OFFENSE        HARASSMENT BY TELEPHONE                        RESIDENCE   False      True  1934      19.0  44.0             6.0       26     1172497.0     1919410.0  2022  01/03/2023 03:46:28 PM  41.934305 -87.641485  (41.934304581, -87.641484982)\n",
       "7784660  12847801    JF420319  07/08/2022 12:00:00 AM  114XX S PRAIRIE AVE  1130  DECEPTIVE PRACTICE       FRAUD OR CONFIDENCE GAME                           STREET   False     False   531       5.0   9.0            49.0       11     1179966.0     1828818.0  2022  01/03/2023 03:46:28 PM  41.685544 -87.616813  (41.685543881, -87.616812541)\n",
       "7784661  12847324    JF420102  09/27/2022 11:00:00 AM      023XX E 70TH ST  0810               THEFT                      OVER $500                        RESIDENCE   False     False   331       3.0   5.0            43.0       06     1193181.0     1859005.0  2022  01/03/2023 03:46:28 PM  41.768068 -87.567453  (41.768068052, -87.567452932)\n",
       "7784662  12847570    JF420427  09/03/2022 10:25:00 AM   052XX W CARMEN AVE  2021           NARCOTICS         POSSESS - BARBITURATES  RESIDENCE - YARD (FRONT / BACK)    True     False  1623      16.0  45.0            11.0       18     1140553.0     1933418.0  2022  01/03/2023 03:46:28 PM  41.973391 -87.758535  (41.973391184, -87.758534512)\n",
       "7784663  12840464    JF411839  09/26/2022 07:20:00 PM    0000X N MASON AVE  143A   WEAPONS VIOLATION  UNLAWFUL POSSESSION - HANDGUN                         SIDEWALK    True     False  1513      15.0  29.0            25.0       15     1136773.0     1899652.0  2022  01/03/2023 03:46:28 PM  41.880802 -87.773246  (41.880802263, -87.773245737)"
      ]
     },
     "execution_count": 8,
     "metadata": {},
     "output_type": "execute_result"
    }
   ],
   "source": [
    "df.tail()"
   ]
  },
  {
   "cell_type": "markdown",
   "id": "57ff71a7",
   "metadata": {},
   "source": [
    "#### **Preliminary Data Analysis (PDA)**\n"
   ]
  },
  {
   "cell_type": "code",
   "execution_count": null,
   "id": "8d316df7",
   "metadata": {},
   "outputs": [
    {
     "name": "stdout",
     "output_type": "stream",
     "text": [
      "=== DATASET OVERVIEW ===\n",
      "Dataset Shape: (7784664, 22)\n",
      "Memory Usage: 5302.92 MB\n"
     ]
    }
   ],
   "source": [
    "# Dataset shape and basic info\n",
    "\n",
    "print(\"=== DATASET OVERVIEW ===\")\n",
    "print(f\"Dataset Shape: {df.shape}\")\n",
    "print(f\"Memory Usage: {df.memory_usage(deep=True).sum() / 1024**2:.2f} MB\")\n",
    "\n",
    "\n",
    "\n",
    " "
   ]
  },
  {
   "cell_type": "code",
   "execution_count": null,
   "id": "7c79890c",
   "metadata": {},
   "outputs": [
    {
     "name": "stdout",
     "output_type": "stream",
     "text": [
      "\n",
      "=== COLUMN INFORMATION ===\n",
      "List of columns:Index(['ID', 'Case Number', 'Date', 'Block', 'IUCR', 'Primary Type', 'Description', 'Location Description', 'Arrest', 'Domestic', 'Beat', 'District', 'Ward', 'Community Area', 'FBI Code', 'X Coordinate', 'Y Coordinate', 'Year', 'Updated On', 'Latitude', 'Longitude', 'Location'], dtype='object')\n",
      "\n",
      "Column details:\n",
      "<class 'pandas.core.frame.DataFrame'>\n",
      "RangeIndex: 7784664 entries, 0 to 7784663\n",
      "Data columns (total 22 columns):\n",
      " #   Column                Dtype  \n",
      "---  ------                -----  \n",
      " 0   ID                    int64  \n",
      " 1   Case Number           object \n",
      " 2   Date                  object \n",
      " 3   Block                 object \n",
      " 4   IUCR                  object \n",
      " 5   Primary Type          object \n",
      " 6   Description           object \n",
      " 7   Location Description  object \n",
      " 8   Arrest                bool   \n",
      " 9   Domestic              bool   \n",
      " 10  Beat                  int64  \n",
      " 11  District              float64\n",
      " 12  Ward                  float64\n",
      " 13  Community Area        float64\n",
      " 14  FBI Code              object \n",
      " 15  X Coordinate          float64\n",
      " 16  Y Coordinate          float64\n",
      " 17  Year                  int64  \n",
      " 18  Updated On            object \n",
      " 19  Latitude              float64\n",
      " 20  Longitude             float64\n",
      " 21  Location              object \n",
      "dtypes: bool(2), float64(7), int64(3), object(10)\n",
      "memory usage: 1.2+ GB\n",
      "None\n"
     ]
    }
   ],
   "source": [
    "# Getting the column information\n",
    "print(\"\\n=== COLUMN INFORMATION ===\")\n",
    "print(f\"List of columns:{df.columns}\")\n",
    "print(\"\")\n",
    "print(\"Column details:\") \n",
    "print(df.info())\n"
   ]
  },
  {
   "cell_type": "code",
   "execution_count": null,
   "id": "114b7321",
   "metadata": {},
   "outputs": [
    {
     "name": "stdout",
     "output_type": "stream",
     "text": [
      "\n",
      "=== FIRST AND LAST 5 RECORDS ===\n",
      "         ID Case Number                    Date                  Block  IUCR Primary Type              Description Location Description  Arrest  Domestic  Beat  District  Ward  Community Area FBI Code  X Coordinate  Y Coordinate  Year              Updated On   Latitude  Longitude                       Location\n",
      "0  10224738    HY411648  09/05/2015 01:30:00 PM        043XX S WOOD ST  0486      BATTERY  DOMESTIC BATTERY SIMPLE            RESIDENCE   False      True   924       9.0  12.0            61.0      08B     1165074.0     1875917.0  2015  02/10/2018 03:50:01 PM  41.815117 -87.670000  (41.815117282, -87.669999562)\n",
      "1  10224739    HY411615  09/04/2015 11:30:00 AM    008XX N CENTRAL AVE  0870        THEFT           POCKET-PICKING              CTA BUS   False     False  1511      15.0  29.0            25.0       06     1138875.0     1904869.0  2015  02/10/2018 03:50:01 PM  41.895080 -87.765400  (41.895080471, -87.765400451)\n",
      "2  11646166    JC213529  09/01/2018 12:01:00 AM  082XX S INGLESIDE AVE  0810        THEFT                OVER $500            RESIDENCE   False      True   631       6.0   8.0            44.0       06           NaN           NaN  2018  04/06/2019 04:04:43 PM        NaN        NaN                            NaN\n",
      "3  10224740    HY411595  09/05/2015 12:45:00 PM      035XX W BARRY AVE  2023    NARCOTICS    POSS: HEROIN(BRN/TAN)             SIDEWALK    True     False  1412      14.0  35.0            21.0       18     1152037.0     1920384.0  2015  02/10/2018 03:50:01 PM  41.937406 -87.716650  (41.937405765, -87.716649687)\n",
      "4  10224741    HY411610  09/05/2015 01:00:00 PM    0000X N LARAMIE AVE  0560      ASSAULT                   SIMPLE            APARTMENT   False      True  1522      15.0  28.0            25.0      08A     1141706.0     1900086.0  2015  02/10/2018 03:50:01 PM  41.881903 -87.755121  (41.881903443, -87.755121152)\n",
      "\n",
      "               ID Case Number                    Date                Block  IUCR        Primary Type                    Description             Location Description  Arrest  Domestic  Beat  District  Ward  Community Area FBI Code  X Coordinate  Y Coordinate  Year              Updated On   Latitude  Longitude                       Location\n",
      "7784659  12847575    JF420478  09/01/2022 05:00:00 AM      005XX W SURF ST  2825       OTHER OFFENSE        HARASSMENT BY TELEPHONE                        RESIDENCE   False      True  1934      19.0  44.0             6.0       26     1172497.0     1919410.0  2022  01/03/2023 03:46:28 PM  41.934305 -87.641485  (41.934304581, -87.641484982)\n",
      "7784660  12847801    JF420319  07/08/2022 12:00:00 AM  114XX S PRAIRIE AVE  1130  DECEPTIVE PRACTICE       FRAUD OR CONFIDENCE GAME                           STREET   False     False   531       5.0   9.0            49.0       11     1179966.0     1828818.0  2022  01/03/2023 03:46:28 PM  41.685544 -87.616813  (41.685543881, -87.616812541)\n",
      "7784661  12847324    JF420102  09/27/2022 11:00:00 AM      023XX E 70TH ST  0810               THEFT                      OVER $500                        RESIDENCE   False     False   331       3.0   5.0            43.0       06     1193181.0     1859005.0  2022  01/03/2023 03:46:28 PM  41.768068 -87.567453  (41.768068052, -87.567452932)\n",
      "7784662  12847570    JF420427  09/03/2022 10:25:00 AM   052XX W CARMEN AVE  2021           NARCOTICS         POSSESS - BARBITURATES  RESIDENCE - YARD (FRONT / BACK)    True     False  1623      16.0  45.0            11.0       18     1140553.0     1933418.0  2022  01/03/2023 03:46:28 PM  41.973391 -87.758535  (41.973391184, -87.758534512)\n",
      "7784663  12840464    JF411839  09/26/2022 07:20:00 PM    0000X N MASON AVE  143A   WEAPONS VIOLATION  UNLAWFUL POSSESSION - HANDGUN                         SIDEWALK    True     False  1513      15.0  29.0            25.0       15     1136773.0     1899652.0  2022  01/03/2023 03:46:28 PM  41.880802 -87.773246  (41.880802263, -87.773245737)\n"
     ]
    }
   ],
   "source": [
    "# Getting a snapshot of the dataset\n",
    "print(\"\\n=== FIRST AND LAST 5 RECORDS ===\")\n",
    "print(df.head())\n",
    "print(\"\")\n",
    "print(df.tail())\n",
    "\n"
   ]
  },
  {
   "cell_type": "code",
   "execution_count": null,
   "id": "ad53edb8",
   "metadata": {},
   "outputs": [
    {
     "name": "stdout",
     "output_type": "stream",
     "text": [
      "\n",
      "=== BASIC STATISTICS ===\n",
      "                  ID Case Number                    Date             Block     IUCR Primary Type Description Location Description   Arrest Domestic          Beat      District          Ward  Community Area FBI Code  X Coordinate  Y Coordinate          Year              Updated On      Latitude     Longitude                       Location\n",
      "count   7.784664e+06     7784660                 7784664           7784664  7784664      7784664     7784664              7774283  7784664  7784664  7.784664e+06  7.784617e+06  7.169816e+06    7.171188e+06  7784664  7.697816e+06  7.697816e+06  7.784664e+06                 7784664  7.697816e+06  7.697816e+06                        7697816\n",
      "unique           NaN     7784121                 3207478             62845      404           36         544                  215        2        2           NaN           NaN           NaN             NaN       26           NaN           NaN           NaN                    5561           NaN           NaN                         890516\n",
      "top              NaN    HZ140230  01/01/2008 12:01:00 AM  100XX W OHARE ST     0820        THEFT      SIMPLE               STREET    False    False           NaN           NaN           NaN             NaN       06           NaN           NaN           NaN  02/10/2018 03:50:01 PM           NaN           NaN  (41.976290414, -87.905227221)\n",
      "freq             NaN           6                     304             16486   631091      1642148      913484              2026828  5749900  6708370           NaN           NaN           NaN             NaN  1642148           NaN           NaN           NaN                 2787942           NaN           NaN                          14272\n",
      "mean    7.026439e+06         NaN                     NaN               NaN      NaN          NaN         NaN                  NaN      NaN      NaN  1.185918e+03  1.129466e+01  2.275420e+01    3.748472e+01      NaN  1.164601e+06  1.885783e+06  2.009944e+03                     NaN  4.184218e+01 -8.767149e+01                            NaN\n",
      "std     3.502657e+06         NaN                     NaN               NaN      NaN          NaN         NaN                  NaN      NaN      NaN  7.031335e+02  6.952422e+00  1.385106e+01    2.154115e+01      NaN  1.684658e+04  3.227531e+04  6.260628e+00                     NaN  8.879598e-02  6.108257e-02                            NaN\n",
      "min     6.340000e+02         NaN                     NaN               NaN      NaN          NaN         NaN                  NaN      NaN      NaN  1.110000e+02  1.000000e+00  1.000000e+00    0.000000e+00      NaN  0.000000e+00  0.000000e+00  2.001000e+03                     NaN  3.661945e+01 -9.168657e+01                            NaN\n",
      "25%     3.792574e+06         NaN                     NaN               NaN      NaN          NaN         NaN                  NaN      NaN      NaN  6.210000e+02  6.000000e+00  1.000000e+01    2.300000e+01      NaN  1.152976e+06  1.859073e+06  2.005000e+03                     NaN  4.176871e+01 -8.771367e+01                            NaN\n",
      "50%     7.029327e+06         NaN                     NaN               NaN      NaN          NaN         NaN                  NaN      NaN      NaN  1.034000e+03  1.000000e+01  2.300000e+01    3.200000e+01      NaN  1.166110e+06  1.890730e+06  2.009000e+03                     NaN  4.185591e+01 -8.766584e+01                            NaN\n",
      "75%     1.013113e+07         NaN                     NaN               NaN      NaN          NaN         NaN                  NaN      NaN      NaN  1.731000e+03  1.700000e+01  3.400000e+01    5.700000e+01      NaN  1.176372e+06  1.909273e+06  2.015000e+03                     NaN  4.190677e+01 -8.762819e+01                            NaN\n",
      "max     1.305643e+07         NaN                     NaN               NaN      NaN          NaN         NaN                  NaN      NaN      NaN  2.535000e+03  3.100000e+01  5.000000e+01    7.700000e+01      NaN  1.205119e+06  1.951622e+06  2.023000e+03                     NaN  4.202291e+01 -8.752453e+01                            NaN\n"
     ]
    }
   ],
   "source": [
    "# Getting Basic Statistics of the dataset\n",
    "print(\"\\n=== BASIC STATISTICS ===\")\n",
    "print(df.describe(include='all'))"
   ]
  },
  {
   "cell_type": "markdown",
   "id": "bc9df871",
   "metadata": {},
   "source": [
    "**Missing Data Analysis**\n",
    "\n",
    "- Writing function to analyze missing values\n",
    "\n",
    "```\n",
    "df.isna() -\n",
    "df.isnull() -\n",
    "df.empty -\n",
    "df.isna().sum() -\n",
    "df.isna().any() - \n",
    "```"
   ]
  },
  {
   "cell_type": "code",
   "execution_count": null,
   "id": "1853991a",
   "metadata": {},
   "outputs": [],
   "source": [
    "\n",
    "def analyze_missing_data(df):\n",
    "    import matplotlib.pyplot as plt\n",
    "\n",
    "    \"\"\"Analyze missing data patterns\"\"\"\n",
    "\n",
    "    missing_data = pd.DataFrame({\n",
    "        'Column': df.columns,\n",
    "        'Missing_Count': df.isnull().sum(),\n",
    "        'Missing_Percentage': (df.isnull().sum() / len(df)) * 100,\n",
    "        'Data_Type': df.dtypes\n",
    "    })\n",
    "\n",
    "    missing_data = missing_data[missing_data['Missing_Count'] > 0].sort_values('Missing_Percentage', ascending=False)\n",
    "\n",
    "    print(\"=== MISSING DATA ANALYSIS ===\")\n",
    "    print(missing_data)\n",
    "\n",
    "    # Visualize missing data\n",
    "    plt.figure(figsize=(12, 6))\n",
    "    if not missing_data.empty:\n",
    "        plt.bar(missing_data['Column'], missing_data['Missing_Percentage'])\n",
    "        plt.title('Missing Data by Column')\n",
    "        plt.xlabel('Columns')\n",
    "        plt.ylabel('Missing Percentage (%)')\n",
    "        plt.xticks(rotation=45)\n",
    "        plt.tight_layout()\n",
    "        plt.show()\n",
    "    else:\n",
    "        print(\"No missing data found!\")"
   ]
  },
  {
   "cell_type": "code",
   "execution_count": null,
   "id": "e56ce077",
   "metadata": {},
   "outputs": [
    {
     "name": "stdout",
     "output_type": "stream",
     "text": [
      "=== MISSING DATA ANALYSIS ===\n",
      "                                    Column  Missing_Count  Missing_Percentage Data_Type\n",
      "Ward                                  Ward         614848            7.898196   float64\n",
      "Community Area              Community Area         613476            7.880571   float64\n",
      "Longitude                        Longitude          86848            1.115629   float64\n",
      "Latitude                          Latitude          86848            1.115629   float64\n",
      "X Coordinate                  X Coordinate          86848            1.115629   float64\n",
      "Y Coordinate                  Y Coordinate          86848            1.115629   float64\n",
      "Location                          Location          86848            1.115629    object\n",
      "Location Description  Location Description          10381            0.133352    object\n",
      "District                          District             47            0.000604   float64\n",
      "Case Number                    Case Number              4            0.000051    object\n"
     ]
    },
    {
     "data": {
      "image/png": "[encoded data removed]",
      "text/plain": [
       "<Figure size 1200x600 with 1 Axes>"
      ]
     },
     "metadata": {},
     "output_type": "display_data"
    }
   ],
   "source": [
    "analyze_missing_data(df)"
   ]
  },
  {
   "cell_type": "code",
   "execution_count": 9,
   "id": "f59d2bbe",
   "metadata": {},
   "outputs": [],
   "source": [
    "# Analysing duplicates\n",
    "def analyze_duplicates(df):\n",
    "    \"\"\"Analyze duplicate records in the DataFrame\"\"\"\n",
    "    total_duplicates = df.duplicated().sum()\n",
    "    print(f\"Total duplicate records: {total_duplicates}\")\n",
    "\n",
    "    if total_duplicates > 0:\n",
    "        duplicate_rows = df[df.duplicated(keep=False)]\n",
    "        print(\"\\n=== DUPLICATE RECORDS ===\")\n",
    "        print(duplicate_rows)\n",
    "\n",
    "        # Analyze duplicates by key columns (e.g., 'ID', 'Case Number')\n",
    "        key_columns = ['ID', 'Case Number']\n",
    "        for col in key_columns:\n",
    "            if col in df.columns:\n",
    "                dup_by_col = df[df.duplicated(subset=[col], keep=False)]\n",
    "                print(f\"\\nDuplicates based on '{col}': {len(dup_by_col)} records\")\n",
    "                print(dup_by_col)\n",
    "    else:\n",
    "        print(\"No duplicate records found!\")\n"
   ]
  },
  {
   "cell_type": "code",
   "execution_count": 10,
   "id": "7b65cb4a",
   "metadata": {},
   "outputs": [
    {
     "name": "stdout",
     "output_type": "stream",
     "text": [
      "Total duplicate records: 0\n",
      "No duplicate records found!\n"
     ]
    }
   ],
   "source": [
    "analyze_duplicates(df)"
   ]
  },
  {
   "cell_type": "markdown",
   "id": "05f95197",
   "metadata": {},
   "source": [
    "**Crime Distribution Overview**\n"
   ]
  },
  {
   "cell_type": "code",
   "execution_count": null,
   "id": "96ba03de",
   "metadata": {},
   "outputs": [
    {
     "data": {
      "text/plain": [
       "0                     BATTERY\n",
       "1                       THEFT\n",
       "2                       THEFT\n",
       "3                   NARCOTICS\n",
       "4                     ASSAULT\n",
       "                  ...        \n",
       "7784659         OTHER OFFENSE\n",
       "7784660    DECEPTIVE PRACTICE\n",
       "7784661                 THEFT\n",
       "7784662             NARCOTICS\n",
       "7784663     WEAPONS VIOLATION\n",
       "Name: Primary Type, Length: 7784664, dtype: object"
      ]
     },
     "execution_count": 27,
     "metadata": {},
     "output_type": "execute_result"
    }
   ],
   "source": [
    "df[\"Primary Type\"] #viewing a snapshot of the Primary Type column (Head and Tail)\n",
    "\n"
   ]
  },
  {
   "cell_type": "code",
   "execution_count": null,
   "id": "0f914b9f",
   "metadata": {},
   "outputs": [
    {
     "name": "stdout",
     "output_type": "stream",
     "text": [
      "=== CRIME TYPE DISTRIBUTION ===\n",
      "Primary Type\n",
      "THEFT                                1642148\n",
      "BATTERY                              1422913\n",
      "CRIMINAL DAMAGE                       887266\n",
      "NARCOTICS                             747633\n",
      "ASSAULT                               507296\n",
      "OTHER OFFENSE                         483642\n",
      "BURGLARY                              424397\n",
      "MOTOR VEHICLE THEFT                   375495\n",
      "DECEPTIVE PRACTICE                    344940\n",
      "ROBBERY                               292334\n",
      "CRIMINAL TRESPASS                     214316\n",
      "WEAPONS VIOLATION                     106418\n",
      "PROSTITUTION                           69840\n",
      "OFFENSE INVOLVING CHILDREN             55719\n",
      "PUBLIC PEACE VIOLATION                 52325\n",
      "SEX OFFENSE                            30683\n",
      "CRIM SEXUAL ASSAULT                    27631\n",
      "INTERFERENCE WITH PUBLIC OFFICER       18392\n",
      "LIQUOR LAW VIOLATION                   14901\n",
      "GAMBLING                               14618\n",
      "ARSON                                  13249\n",
      "HOMICIDE                               12548\n",
      "KIDNAPPING                              7213\n",
      "CRIMINAL SEXUAL ASSAULT                 6684\n",
      "STALKING                                4789\n",
      "INTIMIDATION                            4679\n",
      "CONCEALED CARRY LICENSE VIOLATION       1080\n",
      "OBSCENITY                                818\n",
      "PUBLIC INDECENCY                         194\n",
      "NON-CRIMINAL                             181\n",
      "OTHER NARCOTIC VIOLATION                 149\n",
      "HUMAN TRAFFICKING                        101\n",
      "NON - CRIMINAL                            38\n",
      "RITUALISM                                 24\n",
      "NON-CRIMINAL (SUBJECT SPECIFIED)           9\n",
      "DOMESTIC VIOLENCE                          1\n",
      "Name: count, dtype: int64\n"
     ]
    }
   ],
   "source": [
    "# Crime type distribution\n",
    "print(\"=== CRIME TYPE DISTRIBUTION ===\")\n",
    "crime_counts = df['Primary Type'].value_counts()\n",
    "print(crime_counts)"
   ]
  },
  {
   "cell_type": "code",
   "execution_count": null,
   "id": "e35e9962",
   "metadata": {},
   "outputs": [
    {
     "name": "stdout",
     "output_type": "stream",
     "text": [
      "\n",
      "=== TOP 7 CRIME TYPES ===\n",
      "Primary Type\n",
      "THEFT              1642148\n",
      "BATTERY            1422913\n",
      "CRIMINAL DAMAGE     887266\n",
      "NARCOTICS           747633\n",
      "ASSAULT             507296\n",
      "OTHER OFFENSE       483642\n",
      "BURGLARY            424397\n",
      "Name: count, dtype: int64\n"
     ]
    }
   ],
   "source": [
    "# Top 10 crime types\n",
    "print(\"\\n=== TOP 7 CRIME TYPES ===\")\n",
    "top_crimes = crime_counts.head(7)\n",
    "print(top_crimes)"
   ]
  },
  {
   "cell_type": "markdown",
   "id": "d4ffd64f",
   "metadata": {},
   "source": [
    "## Crime Location Analysis\n",
    "* There are 215 unique values"
   ]
  },
  {
   "cell_type": "code",
   "execution_count": null,
   "id": "4a3be2a3",
   "metadata": {},
   "outputs": [
    {
     "data": {
      "text/plain": [
       "0                                RESIDENCE\n",
       "1                                  CTA BUS\n",
       "2                                RESIDENCE\n",
       "3                                 SIDEWALK\n",
       "4                                APARTMENT\n",
       "                        ...               \n",
       "7784659                          RESIDENCE\n",
       "7784660                             STREET\n",
       "7784661                          RESIDENCE\n",
       "7784662    RESIDENCE - YARD (FRONT / BACK)\n",
       "7784663                           SIDEWALK\n",
       "Name: Location Description, Length: 7784664, dtype: object"
      ]
     },
     "execution_count": 30,
     "metadata": {},
     "output_type": "execute_result"
    }
   ],
   "source": [
    "df[\"Location Description\"] # taking a snapshot of the Crime Location"
   ]
  },
  {
   "cell_type": "code",
   "execution_count": null,
   "id": "ec8ce4bc",
   "metadata": {},
   "outputs": [
    {
     "name": "stdout",
     "output_type": "stream",
     "text": [
      "=== CRIME LOCATION DISTRIBUTION ===\n",
      "Location Description\n",
      "STREET                   2026828\n",
      "RESIDENCE                1305843\n",
      "APARTMENT                 879342\n",
      "SIDEWALK                  728865\n",
      "OTHER                     270026\n",
      "                          ...   \n",
      "POOLROOM                       1\n",
      "TRUCKING TERMINAL              1\n",
      "LIVERY AUTO                    1\n",
      "POLICE FACILITY                1\n",
      "EXPRESSWAY EMBANKMENT          1\n",
      "Name: count, Length: 215, dtype: int64\n"
     ]
    }
   ],
   "source": [
    "# Crime location distribution\n",
    "print(\"=== CRIME LOCATION DISTRIBUTION ===\")\n",
    "crime_location = df['Location Description'].value_counts()\n",
    "print(crime_location)"
   ]
  },
  {
   "cell_type": "code",
   "execution_count": null,
   "id": "628b9fa1",
   "metadata": {},
   "outputs": [
    {
     "name": "stdout",
     "output_type": "stream",
     "text": [
      "\n",
      "=== TOP 7 CRIME LOCATIONS ===\n",
      "Location Description\n",
      "STREET                            2026828\n",
      "RESIDENCE                         1305843\n",
      "APARTMENT                          879342\n",
      "SIDEWALK                           728865\n",
      "OTHER                              270026\n",
      "PARKING LOT/GARAGE(NON.RESID.)     202991\n",
      "ALLEY                              172812\n",
      "Name: count, dtype: int64\n"
     ]
    }
   ],
   "source": [
    "# Top 10 crime location\n",
    "print(\"\\n=== TOP 7 CRIME LOCATIONS ===\")\n",
    "top_crime_locations = crime_location.head(7)\n",
    "print(top_crime_locations)"
   ]
  },
  {
   "cell_type": "code",
   "execution_count": null,
   "id": "a22751b9",
   "metadata": {},
   "outputs": [
    {
     "name": "stdout",
     "output_type": "stream",
     "text": [
      "\n",
      "=== OVERALL ARREST RATE ===\n",
      "Overall Arrest Rate: 26.14%\n"
     ]
    }
   ],
   "source": [
    "# Arrest rate analysis\n",
    "arrest_rate = df['Arrest'].mean() * 100\n",
    "print(f\"\\n=== OVERALL ARREST RATE ===\")\n",
    "print(f\"Overall Arrest Rate: {arrest_rate:.2f}%\")"
   ]
  },
  {
   "cell_type": "code",
   "execution_count": null,
   "id": "b5a84025",
   "metadata": {},
   "outputs": [
    {
     "name": "stdout",
     "output_type": "stream",
     "text": [
      "Domestic Violence Rate: 13.83%\n"
     ]
    }
   ],
   "source": [
    "# Domestic violence rate\n",
    "domestic_rate = df['Domestic'].mean() * 100\n",
    "print(f\"Domestic Violence Rate: {domestic_rate:.2f}%\")\n"
   ]
  },
  {
   "cell_type": "markdown",
   "id": "198facfd",
   "metadata": {},
   "source": [
    "### **Data Cleaning and Preprocessing**"
   ]
  }
 ],
 "metadata": {
  "kernelspec": {
   "display_name": "Python 3",
   "language": "python",
   "name": "python3"
  },
  "language_info": {
   "codemirror_mode": {
    "name": "ipython",
    "version": 3
   },
   "file_extension": ".py",
   "mimetype": "text/x-python",
   "name": "python",
   "nbconvert_exporter": "python",
   "pygments_lexer": "ipython3",
   "version": "3.13.5"
  }
 },
 "nbformat": 4,
 "nbformat_minor": 5
}
