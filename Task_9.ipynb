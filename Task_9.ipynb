{
 "cells": [
  {
   "cell_type": "markdown",
   "id": "fa83bed4",
   "metadata": {},
   "source": [
    "Task:\n",
    "\n",
    "Is the beef consumption in Argentina significantly different from that in Bangladesh?\n",
    "\n",
    "H₀: Mean beef consumption (Argentina) = Mean beef consumption (Bangladesh)\n",
    "\n",
    "H₁: Mean beef consumption (Argentina) ≠ Mean beef consumption (Bangladesh)"
   ]
  },
  {
   "cell_type": "code",
   "execution_count": null,
   "id": "7f8dcd18",
   "metadata": {},
   "outputs": [
    {
     "name": "stdout",
     "output_type": "stream",
     "text": [
      "Collecting gdown\n",
      "  Downloading gdown-5.2.0-py3-none-any.whl.metadata (5.8 kB)\n",
      "Collecting beautifulsoup4 (from gdown)\n",
      "  Downloading beautifulsoup4-4.14.2-py3-none-any.whl.metadata (3.8 kB)\n",
      "Collecting filelock (from gdown)\n",
      "  Downloading filelock-3.19.1-py3-none-any.whl.metadata (2.1 kB)\n",
      "Collecting requests[socks] (from gdown)\n",
      "  Downloading requests-2.32.5-py3-none-any.whl.metadata (4.9 kB)\n",
      "Collecting tqdm (from gdown)\n",
      "  Downloading tqdm-4.67.1-py3-none-any.whl.metadata (57 kB)\n",
      "Collecting soupsieve>1.2 (from beautifulsoup4->gdown)\n",
      "  Downloading soupsieve-2.8-py3-none-any.whl.metadata (4.6 kB)\n",
      "Collecting typing-extensions>=4.0.0 (from beautifulsoup4->gdown)\n",
      "  Downloading typing_extensions-4.15.0-py3-none-any.whl.metadata (3.3 kB)\n",
      "Collecting charset_normalizer<4,>=2 (from requests[socks]->gdown)\n",
      "  Downloading charset_normalizer-3.4.3-cp313-cp313-win_amd64.whl.metadata (37 kB)\n",
      "Collecting idna<4,>=2.5 (from requests[socks]->gdown)\n",
      "  Downloading idna-3.10-py3-none-any.whl.metadata (10 kB)\n",
      "Collecting urllib3<3,>=1.21.1 (from requests[socks]->gdown)\n",
      "  Downloading urllib3-2.5.0-py3-none-any.whl.metadata (6.5 kB)\n",
      "Collecting certifi>=2017.4.17 (from requests[socks]->gdown)\n",
      "  Downloading certifi-2025.8.3-py3-none-any.whl.metadata (2.4 kB)\n",
      "Collecting PySocks!=1.5.7,>=1.5.6 (from requests[socks]->gdown)\n",
      "  Downloading PySocks-1.7.1-py3-none-any.whl.metadata (13 kB)\n",
      "Requirement already satisfied: colorama in c:\\users\\ace7n\\appdata\\roaming\\python\\python313\\site-packages (from tqdm->gdown) (0.4.6)\n",
      "Downloading gdown-5.2.0-py3-none-any.whl (18 kB)\n",
      "Downloading beautifulsoup4-4.14.2-py3-none-any.whl (106 kB)\n",
      "Downloading soupsieve-2.8-py3-none-any.whl (36 kB)\n",
      "Downloading typing_extensions-4.15.0-py3-none-any.whl (44 kB)\n",
      "Downloading filelock-3.19.1-py3-none-any.whl (15 kB)\n",
      "Downloading requests-2.32.5-py3-none-any.whl (64 kB)\n",
      "Downloading charset_normalizer-3.4.3-cp313-cp313-win_amd64.whl (107 kB)\n",
      "Downloading idna-3.10-py3-none-any.whl (70 kB)\n",
      "Downloading urllib3-2.5.0-py3-none-any.whl (129 kB)\n",
      "Downloading certifi-2025.8.3-py3-none-any.whl (161 kB)\n",
      "Downloading PySocks-1.7.1-py3-none-any.whl (16 kB)\n",
      "Downloading tqdm-4.67.1-py3-none-any.whl (78 kB)\n",
      "Installing collected packages: urllib3, typing-extensions, tqdm, soupsieve, PySocks, idna, filelock, charset_normalizer, certifi, requests, beautifulsoup4, gdown\n",
      "\n",
      "   ----------------------------------------  0/12 [urllib3]\n",
      "   ------ ---------------------------------  2/12 [tqdm]\n",
      "   ------ ---------------------------------  2/12 [tqdm]\n",
      "   ---------------- -----------------------  5/12 [idna]\n",
      "   -------------------- -------------------  6/12 [filelock]\n",
      "   -------------------------- -------------  8/12 [certifi]\n",
      "   --------------------------------- ------ 10/12 [beautifulsoup4]\n",
      "   ------------------------------------ --- 11/12 [gdown]\n",
      "   ---------------------------------------- 12/12 [gdown]\n",
      "\n",
      "Successfully installed PySocks-1.7.1 beautifulsoup4-4.14.2 certifi-2025.8.3 charset_normalizer-3.4.3 filelock-3.19.1 gdown-5.2.0 idna-3.10 requests-2.32.5 soupsieve-2.8 tqdm-4.67.1 typing-extensions-4.15.0 urllib3-2.5.0\n",
      "Note: you may need to restart the kernel to use updated packages.\n"
     ]
    },
    {
     "name": "stderr",
     "output_type": "stream",
     "text": [
      "Downloading...\n",
      "From: https://drive.google.com/uc?id=1yB5qSBOLl96Y563nIewKOU8RN_gsY3dO\n",
      "To: c:\\Users\\ace7n\\Documents\\GitHub\\Gen_Ai\\data.csv\n",
      "100%|██████████| 52.0k/52.0k [00:00<00:00, 285kB/s]\n"
     ]
    },
    {
     "data": {
      "text/plain": [
       "'data.csv'"
      ]
     },
     "execution_count": 3,
     "metadata": {},
     "output_type": "execute_result"
    }
   ],
   "source": [
    "%pip install gdown\n",
    "\n",
    "import gdown # For downloading files from Google Drive\n",
    "from scipy import stats # For statistical functions\n",
    "\n",
    "file_id = '1yB5qSBOLl96Y563nIewKOU8RN_gsY3dO'  # Make sure it's a string\n",
    "gdown.download(f'https://drive.google.com/uc?id={file_id}', 'data.csv', quiet=False)"
   ]
  },
  {
   "cell_type": "code",
   "execution_count": null,
   "id": "967a8219",
   "metadata": {},
   "outputs": [
    {
     "data": {
      "text/html": [
       "<div>\n",
       "<style scoped>\n",
       "    .dataframe tbody tr th:only-of-type {\n",
       "        vertical-align: middle;\n",
       "    }\n",
       "\n",
       "    .dataframe tbody tr th {\n",
       "        vertical-align: top;\n",
       "    }\n",
       "\n",
       "    .dataframe thead th {\n",
       "        text-align: right;\n",
       "    }\n",
       "</style>\n",
       "<table border=\"1\" class=\"dataframe\">\n",
       "  <thead>\n",
       "    <tr style=\"text-align: right;\">\n",
       "      <th></th>\n",
       "      <th>Unnamed: 0</th>\n",
       "      <th>country</th>\n",
       "      <th>food_category</th>\n",
       "      <th>consumption</th>\n",
       "      <th>co2_emission</th>\n",
       "    </tr>\n",
       "  </thead>\n",
       "  <tbody>\n",
       "    <tr>\n",
       "      <th>0</th>\n",
       "      <td>1</td>\n",
       "      <td>Argentina</td>\n",
       "      <td>pork</td>\n",
       "      <td>10.51</td>\n",
       "      <td>37.20</td>\n",
       "    </tr>\n",
       "    <tr>\n",
       "      <th>1</th>\n",
       "      <td>2</td>\n",
       "      <td>Argentina</td>\n",
       "      <td>poultry</td>\n",
       "      <td>38.66</td>\n",
       "      <td>41.53</td>\n",
       "    </tr>\n",
       "    <tr>\n",
       "      <th>2</th>\n",
       "      <td>3</td>\n",
       "      <td>Argentina</td>\n",
       "      <td>beef</td>\n",
       "      <td>55.48</td>\n",
       "      <td>1712.00</td>\n",
       "    </tr>\n",
       "    <tr>\n",
       "      <th>3</th>\n",
       "      <td>4</td>\n",
       "      <td>Argentina</td>\n",
       "      <td>lamb_goat</td>\n",
       "      <td>1.56</td>\n",
       "      <td>54.63</td>\n",
       "    </tr>\n",
       "    <tr>\n",
       "      <th>4</th>\n",
       "      <td>5</td>\n",
       "      <td>Argentina</td>\n",
       "      <td>fish</td>\n",
       "      <td>4.36</td>\n",
       "      <td>6.96</td>\n",
       "    </tr>\n",
       "    <tr>\n",
       "      <th>...</th>\n",
       "      <td>...</td>\n",
       "      <td>...</td>\n",
       "      <td>...</td>\n",
       "      <td>...</td>\n",
       "      <td>...</td>\n",
       "    </tr>\n",
       "    <tr>\n",
       "      <th>1425</th>\n",
       "      <td>1426</td>\n",
       "      <td>Bangladesh</td>\n",
       "      <td>dairy</td>\n",
       "      <td>21.91</td>\n",
       "      <td>31.21</td>\n",
       "    </tr>\n",
       "    <tr>\n",
       "      <th>1426</th>\n",
       "      <td>1427</td>\n",
       "      <td>Bangladesh</td>\n",
       "      <td>wheat</td>\n",
       "      <td>17.47</td>\n",
       "      <td>3.33</td>\n",
       "    </tr>\n",
       "    <tr>\n",
       "      <th>1427</th>\n",
       "      <td>1428</td>\n",
       "      <td>Bangladesh</td>\n",
       "      <td>rice</td>\n",
       "      <td>171.73</td>\n",
       "      <td>219.76</td>\n",
       "    </tr>\n",
       "    <tr>\n",
       "      <th>1428</th>\n",
       "      <td>1429</td>\n",
       "      <td>Bangladesh</td>\n",
       "      <td>soybeans</td>\n",
       "      <td>0.61</td>\n",
       "      <td>0.27</td>\n",
       "    </tr>\n",
       "    <tr>\n",
       "      <th>1429</th>\n",
       "      <td>1430</td>\n",
       "      <td>Bangladesh</td>\n",
       "      <td>nuts</td>\n",
       "      <td>0.72</td>\n",
       "      <td>1.27</td>\n",
       "    </tr>\n",
       "  </tbody>\n",
       "</table>\n",
       "<p>1430 rows × 5 columns</p>\n",
       "</div>"
      ],
      "text/plain": [
       "      Unnamed: 0     country food_category  consumption  co2_emission\n",
       "0              1   Argentina          pork        10.51         37.20\n",
       "1              2   Argentina       poultry        38.66         41.53\n",
       "2              3   Argentina          beef        55.48       1712.00\n",
       "3              4   Argentina     lamb_goat         1.56         54.63\n",
       "4              5   Argentina          fish         4.36          6.96\n",
       "...          ...         ...           ...          ...           ...\n",
       "1425        1426  Bangladesh         dairy        21.91         31.21\n",
       "1426        1427  Bangladesh         wheat        17.47          3.33\n",
       "1427        1428  Bangladesh          rice       171.73        219.76\n",
       "1428        1429  Bangladesh      soybeans         0.61          0.27\n",
       "1429        1430  Bangladesh          nuts         0.72          1.27\n",
       "\n",
       "[1430 rows x 5 columns]"
      ]
     },
     "execution_count": 4,
     "metadata": {},
     "output_type": "execute_result"
    }
   ],
   "source": [
    "import pandas as pd # For data manipulation\n",
    "import numpy as np # For numerical operations\n",
    "# Read the downloaded CSV file\n",
    "df = pd.read_csv('data.csv') # Load the data into a DataFrame\n",
    "df.dropna(inplace=True)\n",
    "df # Display the DataFrame"
   ]
  },
  {
   "cell_type": "code",
   "execution_count": 5,
   "id": "1f3c8a28",
   "metadata": {},
   "outputs": [
    {
     "name": "stdout",
     "output_type": "stream",
     "text": [
      "2    55.48\n",
      "Name: consumption, dtype: float64\n",
      "1421    1.28\n",
      "Name: consumption, dtype: float64\n"
     ]
    }
   ],
   "source": [
    "arg_beef = df[(df['country'] == 'Argentina') & (df['food_category'] == 'beef')]\n",
    "arg_beef_consump = arg_beef['consumption']\n",
    "\n",
    "bang_beef = df[(df['country'] == 'Bangladesh') & (df['food_category'] == 'beef')]\n",
    "bang_beef_consump = bang_beef['consumption']\n",
    "\n",
    "print(arg_beef_consump)\n",
    "print(bang_beef_consump)"
   ]
  },
  {
   "cell_type": "code",
   "execution_count": 6,
   "id": "d25618c3",
   "metadata": {},
   "outputs": [
    {
     "name": "stdout",
     "output_type": "stream",
     "text": [
      "Mean Beef Consumption(Argentina):  55.48\n",
      "Mean Beef Consumption(Bangladesh):  1.28\n"
     ]
    }
   ],
   "source": [
    "arg_beef_consump_mean = arg_beef_consump.mean()\n",
    "bang_beef_consump_mean = bang_beef_consump.mean()\n",
    "\n",
    "print(\"Mean Beef Consumption(Argentina): \", arg_beef_consump_mean)\n",
    "print(\"Mean Beef Consumption(Bangladesh): \", bang_beef_consump_mean)"
   ]
  },
  {
   "cell_type": "code",
   "execution_count": null,
   "id": "1a15d43d",
   "metadata": {},
   "outputs": [
    {
     "data": {
      "text/plain": [
       "array([57.96357077, 54.78867849, 58.71844269, 63.09514928, 54.30923313,\n",
       "       54.30931522, 63.37606408, 59.31717365, 53.13262807, 58.19280022,\n",
       "       53.16291154, 53.15135123, 56.68981136, 45.91359878, 46.85541084,\n",
       "       52.66856235, 50.4158444 , 57.05123666, 50.93987962, 48.41848149,\n",
       "       62.80824384, 54.3511185 , 55.81764102, 48.35625907, 52.75808638,\n",
       "       56.03461295, 49.72503211, 57.35849009, 52.47680655, 54.02153125])"
      ]
     },
     "execution_count": 7,
     "metadata": {},
     "output_type": "execute_result"
    }
   ],
   "source": [
    "np.random.seed(42) # for reproducibility\n",
    "arg_beef_samples = np.random.normal(loc=arg_beef_consump_mean, scale=5, size=30) # Simulated samples\n",
    "arg_beef_samples"
   ]
  },
  {
   "cell_type": "code",
   "execution_count": 8,
   "id": "5d7cbee9",
   "metadata": {},
   "outputs": [
    {
     "data": {
      "text/plain": [
       "array([-1.72853306, 10.54139092,  1.21251388, -4.00855464,  5.39272456,\n",
       "       -4.82421825,  2.32431798, -8.51835062, -5.36093024,  2.26430618,\n",
       "        4.9723329 ,  2.13684141,  0.70175859, -0.22551848, -6.11260995,\n",
       "       -2.31922104, -1.02319385,  6.56561113,  2.99809145, -7.53520078,\n",
       "        2.90041985, -0.6454114 , -2.10461   ,  4.33838144,  6.43499761,\n",
       "        5.9364006 , -2.91608762, -0.26606188,  2.93631716,  6.15772564])"
      ]
     },
     "execution_count": 8,
     "metadata": {},
     "output_type": "execute_result"
    }
   ],
   "source": [
    "bang_beef_samples = np.random.normal(loc=bang_beef_consump_mean, scale=5, size=30)\n",
    "bang_beef_samples"
   ]
  },
  {
   "cell_type": "code",
   "execution_count": 9,
   "id": "c7dcffca",
   "metadata": {},
   "outputs": [
    {
     "name": "stdout",
     "output_type": "stream",
     "text": [
      "T-statistic:  64.82465065513577\n",
      "P-value:  6.1573169718969674e-33\n",
      "Reject the null hypothesis: Significant difference in beef consumption.\n"
     ]
    }
   ],
   "source": [
    "# one-sample t-test : Argentina beef samples vs bangladesh mean \n",
    "t_stat, p_val =stats.ttest_1samp(arg_beef_samples, bang_beef_consump_mean)  # one-sample t-test\n",
    "print(\"T-statistic: \", t_stat)\n",
    "print(\"P-value: \", p_val)\n",
    "if p_val < 0.05:\n",
    "    print(\"Reject the null hypothesis: Significant difference in beef consumption.\")\n",
    "else:\n",
    "    print(\"Fail to reject the null hypothesis: No significant difference in beef consumption.\") "
   ]
  },
  {
   "cell_type": "code",
   "execution_count": null,
   "id": "b20688c1",
   "metadata": {},
   "outputs": [
    {
     "name": "stdout",
     "output_type": "stream",
     "text": [
      "T-statistic:  -64.47923713919985\n",
      "P-value:  7.181767814881781e-33\n",
      "Reject the null hypothesis: Significant difference in beef consumption.\n"
     ]
    }
   ],
   "source": [
    "# Comparing Bangladesh samples vs argentina mean\n",
    "t_stat, p_val =stats.ttest_1samp(bang_beef_samples, arg_beef_consump_mean) # one-sample t-test to\n",
    "print(\"T-statistic: \", t_stat)\n",
    "print(\"P-value: \", p_val)\n",
    "if p_val < 0.05:\n",
    "    print(\"Reject the null hypothesis: Significant difference in beef consumption.\")\n",
    "else:\n",
    "    print(\"Fail to reject the null hypothesis: No significant difference in beef consumption.\") "
   ]
  },
  {
   "cell_type": "markdown",
   "id": "1eaab6ea",
   "metadata": {},
   "source": [
    "Interpretation:\n",
    "\n",
    "If p < 0.05, reject H₀ → Mean beef consumption (Argentina) = Mean beef consumption (Bangladesh)\n",
    "\n",
    "If p ≥ 0.05, fail to reject H₀.\n",
    "\n",
    "CONCLUSION: Since, p < 0.05, the mean beef consumption of Argentina is significantly different from Bangladesh"
   ]
  },
  {
   "cell_type": "code",
   "execution_count": 11,
   "id": "82c9b517",
   "metadata": {},
   "outputs": [
    {
     "name": "stdout",
     "output_type": "stream",
     "text": [
      "T-statistic:  45.56550535993598\n",
      "P-value:  4.508880481655939e-47\n",
      "Reject the null hypothesis: Significant difference in beef consumption between Argentina and Bangladesh.\n"
     ]
    }
   ],
   "source": [
    "# Using independent two-sample t-test\n",
    "t_statistic, p_value = stats.ttest_ind(arg_beef_samples, bang_beef_samples, equal_var=False) # Welch's t-test to account for unequal variances\n",
    "print(\"T-statistic: \", t_statistic)\n",
    "print(\"P-value: \", p_value)\n",
    "if p_value < 0.05:\n",
    "    print(\"Reject the null hypothesis: Significant difference in beef consumption between Argentina and Bangladesh.\")\n",
    "else:\n",
    "    print(\"Fail to reject the null hypothesis: No significant difference in beef consumption between Argentina and Bangladesh.\")        "
   ]
  },
  {
   "cell_type": "code",
   "execution_count": 12,
   "id": "b26ffdc0",
   "metadata": {},
   "outputs": [
    {
     "name": "stdout",
     "output_type": "stream",
     "text": [
      "\n",
      "Significance level (alpha): 0.05\n",
      "The p-value (0.0000000000) is less than alpha. Reject the null hypothesis.\n",
      "Conclusion: The mean beef consumption in Argentina is significantly different from that in Bangladesh.\n"
     ]
    }
   ],
   "source": [
    "alpha = 0.05 # significance level\n",
    "\n",
    "print(f\"\\nSignificance level (alpha): {alpha}\")\n",
    "if p_value < alpha:\n",
    "    print(f\"The p-value ({p_value:.10f}) is less than alpha. Reject the null hypothesis.\")\n",
    "    print(\"Conclusion: The mean beef consumption in Argentina is significantly different from that in Bangladesh.\")\n",
    "else:\n",
    "    print(f\"The p-value ({p_value:.10f}) is greater than alpha. Fail to reject the null hypothesis.\")\n",
    "    print(\"Conclusion: There is no significant difference in the mean beef consumption.\")"
   ]
  }
 ],
 "metadata": {
  "kernelspec": {
   "display_name": "Python 3",
   "language": "python",
   "name": "python3"
  },
  "language_info": {
   "codemirror_mode": {
    "name": "ipython",
    "version": 3
   },
   "file_extension": ".py",
   "mimetype": "text/x-python",
   "name": "python",
   "nbconvert_exporter": "python",
   "pygments_lexer": "ipython3",
   "version": "3.13.5"
  }
 },
 "nbformat": 4,
 "nbformat_minor": 5
}
